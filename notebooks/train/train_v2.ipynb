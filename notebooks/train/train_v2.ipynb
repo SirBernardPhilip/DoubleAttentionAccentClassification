{
 "cells": [
  {
   "cell_type": "markdown",
   "metadata": {},
   "source": [
    "# Imports"
   ]
  },
  {
   "cell_type": "code",
   "execution_count": 1,
   "metadata": {},
   "outputs": [],
   "source": [
    "import os\n",
    "import sys\n",
    "import argparse\n",
    "import numpy as np\n",
    "import random\n",
    "import pickle\n",
    "import time\n",
    "\n",
    "import torch\n",
    "import torch.nn as nn\n",
    "from torch.nn import functional as F\n",
    "from torch import optim\n",
    "from torch.utils.data import DataLoader\n",
    "\n",
    "from utils import getModelName, getNumberOfSpeakers, Accuracy, scoreCosineDistance, chkptsave, Score\n",
    "from data import Dataset, normalizeFeatures, featureReader\n",
    "from model import SpeakerClassifier"
   ]
  },
  {
   "cell_type": "code",
   "execution_count": 27,
   "metadata": {},
   "outputs": [],
   "source": [
    "import matplotlib.pyplot as plt"
   ]
  },
  {
   "cell_type": "markdown",
   "metadata": {},
   "source": [
    "# Functions"
   ]
  },
  {
   "cell_type": "markdown",
   "metadata": {},
   "source": [
    "# 1 - Input params"
   ]
  },
  {
   "cell_type": "markdown",
   "metadata": {},
   "source": [
    "execute and copy"
   ]
  },
  {
   "cell_type": "code",
   "execution_count": 2,
   "metadata": {},
   "outputs": [
    {
     "name": "stdout",
     "output_type": "stream",
     "text": [
      "{'train_data_dir': '/scratch/speaker_databases/', 'valid_data_dir': '/scratch/speaker_databases/VoxCeleb-1/wav', 'train_labels_path': 'labels/Vox2.ndx', 'data_mode': 'normal', 'valid_clients': 'labels/clients.ndx', 'valid_impostors': 'labels/impostors.ndx', 'out_dir': './models/model1', 'model_name': 'CNN', 'front_end': 'VGG4L', 'window_size': 3.5, 'randomSlicing': False, 'normalization': 'cmn', 'kernel_size': 1024, 'embedding_size': 400, 'heads_number': 32, 'pooling_method': 'DoubleMHA', 'mask_prob': 0.3, 'scalingFactor': 30.0, 'marginFactor': 0.4, 'annealing': False, 'optimizer': 'Adam', 'learning_rate': 0.0001, 'weight_decay': 0.001, 'batch_size': 64, 'gradientAccumulation': 2, 'max_epochs': 1000000, 'early_stopping': 25, 'print_every': 1000, 'requeue': False, 'validate_every': 10000, 'num_workers': 2}\r\n"
     ]
    }
   ],
   "source": [
    "! python args_input_simulation.py"
   ]
  },
  {
   "cell_type": "markdown",
   "metadata": {},
   "source": [
    "paste"
   ]
  },
  {
   "cell_type": "code",
   "execution_count": 3,
   "metadata": {},
   "outputs": [],
   "source": [
    "params_dict = {\n",
    "    #'train_data_dir': '/home/usuaris/veu/federico.costa/datasets/voxceleb2/dev',\n",
    "    'train_data_dir': '',\n",
    "    'valid_data_dir': '', \n",
    "    'train_labels_path': '/home/usuaris/veu/federico.costa/git_repositories/DoubleAttentionSpeakerVerification/files_directories/labels/labels.ndx', \n",
    "    'data_mode': 'normal', \n",
    "    'valid_clients': '/home/usuaris/veu/federico.costa/git_repositories/DoubleAttentionSpeakerVerification/files_directories/labels/clients.ndx', \n",
    "    'valid_impostors': '/home/usuaris/veu/federico.costa/git_repositories/DoubleAttentionSpeakerVerification/files_directories/labels/impostors.ndx', \n",
    "    'out_dir': './models/model1', \n",
    "    'model_name': 'CNN', \n",
    "    'front_end': 'VGG4L', \n",
    "    'window_size': 3.5, \n",
    "    'randomSlicing': False, \n",
    "    'normalization': 'cmn', \n",
    "    'kernel_size': 1024, \n",
    "    'embedding_size': 400, \n",
    "    'heads_number': 32, \n",
    "    'pooling_method': 'DoubleMHA', \n",
    "    'mask_prob': 0.3, \n",
    "    'scalingFactor': 30.0, \n",
    "    'marginFactor': 0.4, \n",
    "    'annealing': False, \n",
    "    'optimizer': 'Adam', \n",
    "    'learning_rate': 0.0001, \n",
    "    'weight_decay': 0.001, \n",
    "    'batch_size': 64, \n",
    "    'gradientAccumulation': 2, \n",
    "    'max_epochs': 1000000, \n",
    "    'early_stopping': 25, \n",
    "    'print_every': 1000, \n",
    "    'requeue': False, \n",
    "    'validate_every': 10000, \n",
    "    'num_workers': 2\n",
    "}"
   ]
  },
  {
   "cell_type": "markdown",
   "metadata": {},
   "source": [
    "# 2 - Trainer class"
   ]
  },
  {
   "cell_type": "code",
   "execution_count": 11,
   "metadata": {},
   "outputs": [],
   "source": [
    "class Trainer:\n",
    "\n",
    "    def __init__(self, params, device):\n",
    "        \n",
    "        self.params = params\n",
    "        \n",
    "        self.params.max_epochs = 2\n",
    "        self.params.batch_size = 64\n",
    "        self.params.validate_every = 7\n",
    "        self.params.print_every = 1\n",
    "        #self.params.num_workers = 1\n",
    "        \n",
    "        self.device = device\n",
    "        self.__load_network()\n",
    "        self.__load_data()\n",
    "        self.__load_optimizer()\n",
    "        self.__load_criterion()\n",
    "        self.__initialize_training_variables()\n",
    "        \n",
    "        \n",
    "        \n",
    "    def __load_previous_states(self):\n",
    "\n",
    "        list_files = os.listdir(self.params.out_dir)\n",
    "        list_files = [self.params.out_dir + '/' + f for f in list_files if '.chkpt' in f]\n",
    "        if list_files:\n",
    "            file2load = max(list_files, key=os.path.getctime)\n",
    "            checkpoint = torch.load(file2load, map_location=self.device)\n",
    "            try:\n",
    "                self.net.load_state_dict(checkpoint['model'])\n",
    "            except RuntimeError:\n",
    "                self.net.module.load_state_dict(checkpoint['model'])\n",
    "            self.optimizer.load_state_dict(checkpoint['optimizer'])\n",
    "            self.params = checkpoint['settings']\n",
    "            self.starting_epoch = checkpoint['epoch']+1\n",
    "            self.step = checkpoint['step']\n",
    "            print('Model \"%s\" is Loaded for requeue process' % file2load)\n",
    "        else:\n",
    "            self.step = 0\n",
    "            self.starting_epoch = 1\n",
    "\n",
    "    def __initialize_training_variables(self):\n",
    "\n",
    "        if self.params.requeue:\n",
    "            self.__load_previous_states()\n",
    "        else:\n",
    "            self.step = 0\n",
    "            self.starting_epoch = 0\n",
    "\n",
    "        self.best_EER = 50.0\n",
    "        self.stopping = 0.0\n",
    "\n",
    "\n",
    "    def __load_network(self):\n",
    "\n",
    "        self.net = SpeakerClassifier(self.params, self.device)\n",
    "        self.net.to(self.device)\n",
    "\n",
    "        if torch.cuda.device_count() > 1:\n",
    "            print(\"Let's use\", torch.cuda.device_count(), \"GPUs!\")\n",
    "            self.net = nn.DataParallel(self.net)\n",
    "\n",
    "\n",
    "    def __load_data(self):\n",
    "        print('Loading Data and Labels')\n",
    "        with open(self.params.train_labels_path, 'r') as data_labels_file:\n",
    "            train_labels=data_labels_file.readlines()\n",
    "\n",
    "        data_loader_parameters = {'batch_size': self.params.batch_size, 'shuffle': True, 'num_workers': self.params.num_workers}\n",
    "        self.training_generator = DataLoader(Dataset(train_labels, self.params), **data_loader_parameters)\n",
    "\n",
    "\n",
    "    def __load_optimizer(self):\n",
    "        if self.params.optimizer == 'Adam':\n",
    "            self.optimizer = optim.Adam(self.net.parameters(), lr=self.params.learning_rate, weight_decay=self.params.weight_decay)\n",
    "        if self.params.optimizer == 'SGD':\n",
    "            self.optimizer = optim.SGD(self.net.parameters(), lr=self.params.learning_rate, weight_decay=self.params.weight_decay)\n",
    "        if self.params.optimizer == 'RMSprop':\n",
    "            self.optimizer = optim.RMSprop(self.net.parameters(), lr=self.params.learning_rate, weight_decay=self.params.weight_decay)\n",
    "\n",
    "    def __update_optimizer(self):\n",
    "\n",
    "        if self.params.optimizer == 'SGD' or self.params.optimizer == 'Adam':\n",
    "            for paramGroup in self.optimizer.param_groups:\n",
    "                paramGroup['lr'] *= 0.5\n",
    "            print('New Learning Rate: {}'.format(paramGroup['lr']))\n",
    "    \n",
    "    def __load_criterion(self):\n",
    "            self.criterion = nn.CrossEntropyLoss()\n",
    "\n",
    "    def __initialize_batch_variables(self):\n",
    "\n",
    "        self.print_time = time.time()\n",
    "        self.train_loss = 0.0\n",
    "        self.train_accuracy = 0.0\n",
    "        self.train_batch = 0\n",
    "\n",
    "    def extractInputFromFeature(self, sline):\n",
    "\n",
    "        #features1 = normalizeFeatures(featureReader(self.params.valid_data_dir + '/' + sline[0] + '.pickle'), normalization=self.params.normalization)\n",
    "        #features2 = normalizeFeatures(featureReader(self.params.valid_data_dir + '/' + sline[1] + '.pickle'), normalization=self.params.normalization)\n",
    "        features1 = normalizeFeatures(featureReader(self.params.valid_data_dir  + sline[0] + '.pickle'), normalization=self.params.normalization)\n",
    "        features2 = normalizeFeatures(featureReader(self.params.valid_data_dir  + sline[1] + '.pickle'), normalization=self.params.normalization)\n",
    "\n",
    "        \n",
    "        input1 = torch.FloatTensor(features1).to(self.device)\n",
    "        input2 = torch.FloatTensor(features2).to(self.device)\n",
    "        \n",
    "        return input1.unsqueeze(0), input2.unsqueeze(0)\n",
    "\n",
    "    def extract_scores(self, trials):\n",
    "\n",
    "        scores = []\n",
    "        for line in trials:\n",
    "            sline = line[:-1].split()\n",
    "\n",
    "            input1, input2 = self.extractInputFromFeature(sline)\n",
    "\n",
    "            if torch.cuda.device_count() > 1:\n",
    "                emb1, emb2 = self.net.module.getEmbedding(input1), self.net.module.getEmbedding(input2)\n",
    "            else:\n",
    "                emb1, emb2 = self.net.getEmbedding(input1), self.net.getEmbedding(input2)\n",
    "\n",
    "            dist = scoreCosineDistance(emb1, emb2)\n",
    "            scores.append(dist.item())\n",
    "\n",
    "        return scores\n",
    "\n",
    "    def calculate_EER(self, CL, IM):\n",
    "\n",
    "        thresholds = np.arange(-1,1,0.01)\n",
    "        FRR, FAR = np.zeros(len(thresholds)), np.zeros(len(thresholds))\n",
    "        for idx,th in enumerate(thresholds):\n",
    "            FRR[idx] = Score(CL, th,'FRR')\n",
    "            FAR[idx] = Score(IM, th,'FAR')\n",
    "\n",
    "        EER_Idx = np.argwhere(np.diff(np.sign(FAR - FRR)) != 0).reshape(-1)\n",
    "        if len(EER_Idx)>0:\n",
    "            if len(EER_Idx)>1:\n",
    "                EER_Idx = EER_Idx[0]\n",
    "            EER = round((FAR[int(EER_Idx)] + FRR[int(EER_Idx)])/2,4)\n",
    "        else:\n",
    "            EER = 50.00\n",
    "        return EER\n",
    "\n",
    "    def __getAnnealedFactor(self):\n",
    "        if torch.cuda.device_count() > 1:\n",
    "            return self.net.module.predictionLayer.getAnnealedFactor(self.step)\n",
    "        else:\n",
    "            return self.net.predictionLayer.getAnnealedFactor(self.step)\n",
    "\n",
    "    def __validate(self):\n",
    "        \n",
    "        print(\"        Using __validate!\")\n",
    "\n",
    "        with torch.no_grad():\n",
    "            valid_time = time.time()\n",
    "            self.net.eval()\n",
    "            # EER Validation\n",
    "            with open(params.valid_clients,'r') as clients_in, open(params.valid_impostors,'r') as impostors_in:\n",
    "                # score clients\n",
    "                CL = self.extract_scores(clients_in)\n",
    "                IM = self.extract_scores(impostors_in)\n",
    "            # Compute EER\n",
    "            EER = self.calculate_EER(CL, IM)\n",
    "            \n",
    "            annealedFactor = self.__getAnnealedFactor()\n",
    "            print('Annealed Factor is {}.'.format(annealedFactor))\n",
    "            print('--Validation Epoch:{epoch: d}, Updates:{Num_Batch: d}, EER:{eer: 3.3f}, elapse:{elapse: 3.3f} min'.format(epoch=self.epoch, Num_Batch=self.step, eer=EER, elapse=(time.time()-valid_time)/60))\n",
    "            # early stopping and save the best model\n",
    "            if EER < self.best_EER:\n",
    "                self.best_EER = EER\n",
    "                self.stopping = 0\n",
    "                print('We found a better model!')\n",
    "                chkptsave(params, self.net, self.optimizer, self.epoch, self.step)\n",
    "            else:\n",
    "                self.stopping += 1\n",
    "                print('Better Accuracy is: {}. {} epochs of no improvement'.format(self.best_EER, self.stopping))\n",
    "            self.print_time = time.time()\n",
    "            self.net.train()\n",
    "\n",
    "    def __update(self):\n",
    "        \n",
    "        print(\"        Using __update!\")\n",
    "\n",
    "        self.optimizer.step()\n",
    "        self.optimizer.zero_grad()\n",
    "        self.step += 1\n",
    "\n",
    "        if self.step % int(self.params.print_every) == 0:\n",
    "            print('        Training Epoch:{epoch: d}, Updates:{Num_Batch: d} -----> xent:{xnet: .3f}, Accuracy:{acc: .2f}, elapse:{elapse: 3.3f} min'.format(epoch=self.epoch, Num_Batch=self.step, xnet=self.train_loss / self.train_batch, acc=self.train_accuracy *100/ self.train_batch, elapse=(time.time()-self.print_time)/60))\n",
    "            self.__initialize_batch_variables()\n",
    "\n",
    "        # validation\n",
    "        if self.step % self.params.validate_every == 0:\n",
    "            self.__validate()\n",
    "\n",
    "    def __updateTrainningVariables(self):\n",
    "\n",
    "        if (self.stopping+1)% 15 ==0:\n",
    "            self.__update_optimizer()\n",
    "\n",
    "    def __randomSlice(self, inputTensor):\n",
    "        index = random.randrange(200,self.params.window_size*100)\n",
    "        return inputTensor[:,:index,:]\n",
    "    \n",
    "    \n",
    "    def train(self):\n",
    "\n",
    "        print('Start Training')\n",
    "        print(\"-\"*50)\n",
    "        \n",
    "        # Loop over epochs\n",
    "        for self.epoch in range(self.starting_epoch, self.params.max_epochs):  # loop over the dataset multiple times\n",
    "            print(f\"Epoch: {self.epoch}\")\n",
    "            \n",
    "            self.net.train()\n",
    "            \n",
    "            # Initialize batch variables\n",
    "            self.__initialize_batch_variables()\n",
    "            print(f\"    train_loss: {self.train_loss}\")\n",
    "            print(f\"    train_accuracy: {self.train_accuracy}\")\n",
    "            print(f\"    train_batch: {self.train_batch}\")\n",
    "            \n",
    "            # Iterate over batchs\n",
    "            for input, label in self.training_generator:\n",
    "                \n",
    "                print(f\"    Step: {self.step}\")\n",
    "                \n",
    "                # input are the batch_size spectrograms for each label\n",
    "                # label are the batch_size labels\n",
    "                input, label = input.float().to(self.device), label.long().to(self.device)\n",
    "                input = self.__randomSlice(input) if self.params.randomSlicing else input\n",
    "                #print(f\"        input: {input.size()}\")\n",
    "                #print(f\"        label: {label}\")\n",
    "                \n",
    "                \n",
    "                prediction, AMPrediction  = self.net(input, label=label, step=self.step)\n",
    "                #print(f\"        prediction: {prediction}\")\n",
    "                #print(f\"        AMPrediction: {AMPrediction.size()}\")\n",
    "                \n",
    "                self.fede_prediction = prediction\n",
    "                self.fede_label = label\n",
    "                self.fede_accuracy = Accuracy(prediction, label)\n",
    "                \n",
    "                \n",
    "                loss = self.criterion(AMPrediction, label)\n",
    "                loss.backward()\n",
    "                self.train_accuracy += Accuracy(prediction, label)\n",
    "                self.train_loss += loss.item()\n",
    "                \n",
    "                self.train_batch += 1\n",
    "                \n",
    "                print(f\"        train_loss: {self.train_loss}\")\n",
    "                print(f\"        train_accuracy: {self.train_accuracy}\")\n",
    "                print(f\"        train_batch: {self.train_batch}\")\n",
    "                print(f\"        gradientAccumulation: {self.params.gradientAccumulation}\")\n",
    "\n",
    "                if self.train_batch % self.params.gradientAccumulation == 0:\n",
    "                    self.__update()\n",
    "\n",
    "            if self.stopping > self.params.early_stopping:\n",
    "                print('    --Best Model EER%%: %.2f' %(self.best_EER))\n",
    "                break\n",
    "            \n",
    "            self.__updateTrainningVariables()\n",
    "        \n",
    "            print(\"-\"*50)\n",
    "            \n",
    "                #print(f\"label: {self.label}\")\n",
    "                #print(f\"prediction: {prediction}\")\n",
    "                #print(f\"AMPrediction: {AMPrediction}\")"
   ]
  },
  {
   "cell_type": "code",
   "execution_count": 12,
   "metadata": {},
   "outputs": [
    {
     "name": "stdout",
     "output_type": "stream",
     "text": [
      "3 Speaker Labels\n",
      "Defining Device...\n",
      "device: cuda:0\n",
      "Loading Trainer\n",
      "Loading Data and Labels\n",
      "Start Training\n",
      "--------------------------------------------------\n",
      "Epoch: 0\n",
      "    train_loss: 0.0\n",
      "    train_accuracy: 0.0\n",
      "    train_batch: 0\n",
      "    Step: 0\n",
      "        train_loss: 13.552813529968262\n",
      "        train_accuracy: 0.171875\n",
      "        train_batch: 1\n",
      "        gradientAccumulation: 2\n",
      "    Step: 0\n",
      "        train_loss: 26.938770294189453\n",
      "        train_accuracy: 0.390625\n",
      "        train_batch: 2\n",
      "        gradientAccumulation: 2\n",
      "        Using __update!\n",
      "        Training Epoch: 0, Updates: 1 -----> xent: 13.469, Accuracy: 19.53, elapse: 0.022 min\n",
      "    Step: 1\n",
      "        train_loss: 13.586644172668457\n",
      "        train_accuracy: 0.28125\n",
      "        train_batch: 1\n",
      "        gradientAccumulation: 2\n",
      "    Step: 1\n",
      "        train_loss: 27.04744529724121\n",
      "        train_accuracy: 0.546875\n",
      "        train_batch: 2\n",
      "        gradientAccumulation: 2\n",
      "        Using __update!\n",
      "        Training Epoch: 0, Updates: 2 -----> xent: 13.524, Accuracy: 27.34, elapse: 0.015 min\n",
      "    Step: 2\n",
      "        train_loss: 12.5657958984375\n",
      "        train_accuracy: 0.46875\n",
      "        train_batch: 1\n",
      "        gradientAccumulation: 2\n",
      "    Step: 2\n",
      "        train_loss: 25.261012077331543\n",
      "        train_accuracy: 0.859375\n",
      "        train_batch: 2\n",
      "        gradientAccumulation: 2\n",
      "        Using __update!\n",
      "        Training Epoch: 0, Updates: 3 -----> xent: 12.631, Accuracy: 42.97, elapse: 0.015 min\n",
      "    Step: 3\n",
      "        train_loss: 12.298585891723633\n",
      "        train_accuracy: 0.59375\n",
      "        train_batch: 1\n",
      "        gradientAccumulation: 2\n",
      "    Step: 3\n",
      "        train_loss: 24.41653060913086\n",
      "        train_accuracy: 1.171875\n",
      "        train_batch: 2\n",
      "        gradientAccumulation: 2\n",
      "        Using __update!\n",
      "        Training Epoch: 0, Updates: 4 -----> xent: 12.208, Accuracy: 58.59, elapse: 0.016 min\n",
      "    Step: 4\n",
      "        train_loss: 10.027589797973633\n",
      "        train_accuracy: 0.859375\n",
      "        train_batch: 1\n",
      "        gradientAccumulation: 2\n",
      "    Step: 4\n",
      "        train_loss: 20.182653427124023\n",
      "        train_accuracy: 1.671875\n",
      "        train_batch: 2\n",
      "        gradientAccumulation: 2\n",
      "        Using __update!\n",
      "        Training Epoch: 0, Updates: 5 -----> xent: 10.091, Accuracy: 83.59, elapse: 0.016 min\n",
      "    Step: 5\n",
      "        train_loss: 8.414715766906738\n",
      "        train_accuracy: 0.875\n",
      "        train_batch: 1\n",
      "        gradientAccumulation: 2\n",
      "    Step: 5\n",
      "        train_loss: 16.539928436279297\n",
      "        train_accuracy: 1.78125\n",
      "        train_batch: 2\n",
      "        gradientAccumulation: 2\n",
      "        Using __update!\n",
      "        Training Epoch: 0, Updates: 6 -----> xent: 8.270, Accuracy: 89.06, elapse: 0.016 min\n",
      "    Step: 6\n",
      "        train_loss: 6.421325206756592\n",
      "        train_accuracy: 0.90625\n",
      "        train_batch: 1\n",
      "        gradientAccumulation: 2\n",
      "    Step: 6\n",
      "        train_loss: 13.304222106933594\n",
      "        train_accuracy: 1.78125\n",
      "        train_batch: 2\n",
      "        gradientAccumulation: 2\n",
      "        Using __update!\n",
      "        Training Epoch: 0, Updates: 7 -----> xent: 6.652, Accuracy: 89.06, elapse: 0.015 min\n",
      "        Using __validate!\n",
      "Annealed Factor is 1.0.\n",
      "--Validation Epoch: 0, Updates: 7, EER: 50.000, elapse: 0.005 min\n",
      "Better Accuracy is: 50.0. 1.0 epochs of no improvement\n",
      "    Step: 7\n",
      "        train_loss: 3.827658176422119\n",
      "        train_accuracy: 1.0\n",
      "        train_batch: 1\n",
      "        gradientAccumulation: 2\n",
      "--------------------------------------------------\n",
      "Epoch: 1\n",
      "    train_loss: 0.0\n",
      "    train_accuracy: 0.0\n",
      "    train_batch: 0\n",
      "    Step: 7\n",
      "        train_loss: 5.1066718101501465\n",
      "        train_accuracy: 0.953125\n",
      "        train_batch: 1\n",
      "        gradientAccumulation: 2\n",
      "    Step: 7\n",
      "        train_loss: 10.639044761657715\n",
      "        train_accuracy: 1.859375\n",
      "        train_batch: 2\n",
      "        gradientAccumulation: 2\n",
      "        Using __update!\n",
      "        Training Epoch: 1, Updates: 8 -----> xent: 5.320, Accuracy: 92.97, elapse: 0.020 min\n",
      "    Step: 8\n",
      "        train_loss: 4.752973556518555\n",
      "        train_accuracy: 0.921875\n",
      "        train_batch: 1\n",
      "        gradientAccumulation: 2\n",
      "    Step: 8\n",
      "        train_loss: 8.60516095161438\n",
      "        train_accuracy: 1.859375\n",
      "        train_batch: 2\n",
      "        gradientAccumulation: 2\n",
      "        Using __update!\n",
      "        Training Epoch: 1, Updates: 9 -----> xent: 4.303, Accuracy: 92.97, elapse: 0.016 min\n",
      "    Step: 9\n",
      "        train_loss: 3.411343812942505\n",
      "        train_accuracy: 0.9375\n",
      "        train_batch: 1\n",
      "        gradientAccumulation: 2\n",
      "    Step: 9\n",
      "        train_loss: 7.325921535491943\n",
      "        train_accuracy: 1.890625\n",
      "        train_batch: 2\n",
      "        gradientAccumulation: 2\n",
      "        Using __update!\n",
      "        Training Epoch: 1, Updates: 10 -----> xent: 3.663, Accuracy: 94.53, elapse: 0.016 min\n",
      "    Step: 10\n",
      "        train_loss: 3.2592546939849854\n",
      "        train_accuracy: 0.921875\n",
      "        train_batch: 1\n",
      "        gradientAccumulation: 2\n",
      "    Step: 10\n",
      "        train_loss: 6.012572526931763\n",
      "        train_accuracy: 1.859375\n",
      "        train_batch: 2\n",
      "        gradientAccumulation: 2\n",
      "        Using __update!\n",
      "        Training Epoch: 1, Updates: 11 -----> xent: 3.006, Accuracy: 92.97, elapse: 0.016 min\n",
      "    Step: 11\n",
      "        train_loss: 3.391319990158081\n",
      "        train_accuracy: 0.890625\n",
      "        train_batch: 1\n",
      "        gradientAccumulation: 2\n",
      "    Step: 11\n",
      "        train_loss: 6.463362216949463\n",
      "        train_accuracy: 1.796875\n",
      "        train_batch: 2\n",
      "        gradientAccumulation: 2\n",
      "        Using __update!\n",
      "        Training Epoch: 1, Updates: 12 -----> xent: 3.232, Accuracy: 89.84, elapse: 0.016 min\n",
      "    Step: 12\n",
      "        train_loss: 3.159203290939331\n",
      "        train_accuracy: 0.890625\n",
      "        train_batch: 1\n",
      "        gradientAccumulation: 2\n",
      "    Step: 12\n",
      "        train_loss: 6.203069686889648\n",
      "        train_accuracy: 1.78125\n",
      "        train_batch: 2\n",
      "        gradientAccumulation: 2\n",
      "        Using __update!\n",
      "        Training Epoch: 1, Updates: 13 -----> xent: 3.102, Accuracy: 89.06, elapse: 0.016 min\n",
      "    Step: 13\n",
      "        train_loss: 3.233818769454956\n",
      "        train_accuracy: 0.890625\n",
      "        train_batch: 1\n",
      "        gradientAccumulation: 2\n",
      "    Step: 13\n",
      "        train_loss: 5.668666124343872\n",
      "        train_accuracy: 1.828125\n",
      "        train_batch: 2\n",
      "        gradientAccumulation: 2\n",
      "        Using __update!\n",
      "        Training Epoch: 1, Updates: 14 -----> xent: 2.834, Accuracy: 91.41, elapse: 0.016 min\n",
      "        Using __validate!\n",
      "Annealed Factor is 1.0.\n",
      "--Validation Epoch: 1, Updates: 14, EER: 5.000, elapse: 0.005 min\n",
      "We found a better model!\n",
      "Saving checkpoint in: ./models/model1/CNN_VGG4L_3.5_128batchSize_0.0001lr_0.001weightDecay_1024kernel_400embSize_30.0s_0.4m_DoubleMHA_32_14.chkpt\n",
      "    Step: 14\n",
      "        train_loss: 3.6121573448181152\n",
      "        train_accuracy: 0.9\n",
      "        train_batch: 1\n",
      "        gradientAccumulation: 2\n",
      "--------------------------------------------------\n",
      "CPU times: user 10.8 s, sys: 4.12 s, total: 14.9 s\n",
      "Wall time: 16 s\n"
     ]
    }
   ],
   "source": [
    "%%time\n",
    "\n",
    "# PARAMS\n",
    "\n",
    "params = argparse.Namespace(**params_dict)\n",
    "\n",
    "params.model_name = getModelName(params)\n",
    "params.num_spkrs = getNumberOfSpeakers(params.train_labels_path) \n",
    "\n",
    "print(f\"{params.num_spkrs} Speaker Labels\")\n",
    "\n",
    "if not os.path.exists(params.out_dir):\n",
    "    os.makedirs(params.out_dir)\n",
    "    print(f\"Output folder created at {params.out_dir}\")\n",
    "    \n",
    "if False:\n",
    "    with open(params.out_dir + '/' + params.model_name + '_config.pkl', 'wb') as handle:\n",
    "        pickle.dump(params, handle, protocol=pickle.HIGHEST_PROTOCOL)\n",
    "        print(f\"{params.out_dir + '/' + params.model_name + '_config.pkl'}\")\n",
    "\n",
    "# MAIN\n",
    "\n",
    "torch.manual_seed(1234)\n",
    "np.random.seed(1234)\n",
    "    \n",
    "print('Defining Device...')\n",
    "device = torch.device(\"cuda:0\" if torch.cuda.is_available() else \"cpu\")\n",
    "print(f\"device: {device}\")\n",
    "# print(torch.cuda.get_device_name(0))\n",
    "\n",
    "print('Loading Trainer')\n",
    "trainer = Trainer(params, device)\n",
    "trainer.train()"
   ]
  },
  {
   "cell_type": "code",
   "execution_count": 103,
   "metadata": {
    "scrolled": false
   },
   "outputs": [
    {
     "name": "stdout",
     "output_type": "stream",
     "text": [
      "Getting clients from /home/usuaris/veu/federico.costa/git_repositories/DoubleAttentionSpeakerVerification/files_directories/labels/clients.ndx\n",
      "Getting impostors from /home/usuaris/veu/federico.costa/git_repositories/DoubleAttentionSpeakerVerification/files_directories/labels/impostors.ndx\n",
      "--------------------------------------------------\n",
      "--------------------------------------------------\n",
      "Extracting scores from clients...\n",
      "Extracting scores from imopstors...\n",
      "Scores exctracted.\n",
      "--------------------------------------------------\n",
      "EER = 5.0 at threshold 0.8500000000000016\n",
      "For that threshold, FAR is 10.0 and FRR is 0.0.\n",
      "CPU times: user 319 ms, sys: 79.7 ms, total: 399 ms\n",
      "Wall time: 405 ms\n"
     ]
    }
   ],
   "source": [
    "%%time\n",
    "\n",
    "with torch.no_grad():\n",
    "    trainer.net.eval()\n",
    "    \n",
    "    # EER Validation\n",
    "    \n",
    "    path_clients = '/home/usuaris/veu/federico.costa/git_repositories/DoubleAttentionSpeakerVerification/files_directories/labels/clients.ndx'\n",
    "    path_impostors = '/home/usuaris/veu/federico.costa/git_repositories/DoubleAttentionSpeakerVerification/files_directories/labels/impostors.ndx'\n",
    "    \n",
    "    \n",
    "    print(f\"Getting clients from {path_clients}\")\n",
    "    print(f\"Getting impostors from {path_impostors}\")\n",
    "    print(\"-\"*50)\n",
    "    \n",
    "    with open(path_clients,'r') as clients_in, open(path_impostors,'r') as impostors_in:\n",
    "        \n",
    "        print(\"-\"*50)\n",
    "        print(f\"Extracting scores from clients...\")\n",
    "        clients_scores = trainer.extract_scores(clients_in)\n",
    "        print(f\"Extracting scores from imopstors...\")\n",
    "        impostors_scores = trainer.extract_scores(impostors_in)\n",
    "        print(f\"Scores exctracted.\")\n",
    "        print(\"-\"*50)\n",
    "        \n",
    "        # Calculate EER\n",
    "        thresholds = np.arange(-1,1,0.01)\n",
    "        FRR, FAR = np.zeros(len(thresholds)), np.zeros(len(thresholds))\n",
    "        \n",
    "        for idx, th in enumerate(thresholds):\n",
    "            \n",
    "            #print(f\"Calculating FFR and FAR for threshold {th}\")\n",
    "            \n",
    "            # Calculate FRR\n",
    "            score_count = 0.0\n",
    "            for score in clients_scores:\n",
    "                if float(score) < float(th):\n",
    "                    score_count += 1\n",
    "            ffr = round(score_count * 100 / float(len(clients_scores)), 4)\n",
    "            FRR[idx] = ffr\n",
    "            #print(f\"FFR = {ffr}\")\n",
    "            \n",
    "            # Calculate FAR\n",
    "            score_count = 0.0\n",
    "            for score in impostors_scores:\n",
    "                if float(score) >= float(th):\n",
    "                    score_count += 1\n",
    "            far = round(score_count * 100 / float(len(impostors_scores)), 4)\n",
    "            FAR[idx] = far\n",
    "            #print(f\"FAR = {far}\")\n",
    "            #print(\"-\"*50)\n",
    "            \n",
    "        \n",
    "        # Calculate EER\n",
    "        EER_index = np.argwhere(np.diff(np.sign(FAR - FRR)) != 0).reshape(-1)\n",
    "\n",
    "        if len(EER_index) > 0:\n",
    "            if len(EER_index) > 1:\n",
    "                EER_index = EER_index[0]\n",
    "            EER = round(\n",
    "                (FAR[int(EER_index)] + FRR[int(EER_index)]) / 2,\n",
    "                4\n",
    "            )\n",
    "        else:\n",
    "            EER = 50.00\n",
    "            \n",
    "        print(f\"EER = {EER} at threshold {thresholds[EER_index][0]}\")\n",
    "        print(f\"For that threshold, FAR is {FAR[EER_index][0]} and FRR is {FRR[EER_index][0]}.\")"
   ]
  },
  {
   "cell_type": "code",
   "execution_count": 126,
   "metadata": {},
   "outputs": [
    {
     "data": {
      "image/png": "[encoded data removed]",
      "text/plain": [
       "<Figure size 5400x1800 with 1 Axes>"
      ]
     },
     "metadata": {
      "needs_background": "light"
     },
     "output_type": "display_data"
    }
   ],
   "source": [
    "plt.figure(figsize=(18, 6), dpi = 300)\n",
    "\n",
    "plt.plot(thresholds, FAR, \"o\", markersize = 5, label = \"FAR\")\n",
    "plt.plot(thresholds, FRR, \"o\", markersize = 5, label = \"FRR\")\n",
    "\n",
    "plt.axhline(EER, linestyle = \"--\", color = \"grey\", label = f\"EER = {EER:.0f}% at threshold {thresholds[EER_index][0]:.2f}\")\n",
    "\n",
    "plt.xlabel(\"Threshold\", )\n",
    "plt.ylabel(\"Rate\")\n",
    "\n",
    "plt.xlim(0.8, 0.9)\n",
    "plt.ylim(0, 30)\n",
    "\n",
    "plt.legend()\n",
    "plt.show()"
   ]
  },
  {
   "cell_type": "code",
   "execution_count": 131,
   "metadata": {},
   "outputs": [
    {
     "name": "stdout",
     "output_type": "stream",
     "text": [
      "FAR is 10.0 and FRR is 11.1111 at threshold 0.8600000000000017.\n",
      "EER = 10.55555\n"
     ]
    }
   ],
   "source": [
    "i = np.nanargmin(np.absolute((FAR - FRR)))\n",
    "print(f\"FAR is {FAR[i]} and FRR is {FRR[i]} at threshold {thresholds[i]}.\")\n",
    "print(f\"EER = {np.mean((FAR[i], FRR[i]))}\")"
   ]
  },
  {
   "cell_type": "code",
   "execution_count": 130,
   "metadata": {},
   "outputs": [
    {
     "name": "stdout",
     "output_type": "stream",
     "text": [
      "FAR is 0.1 and FRR is 0.0 at threshold 0.852164089679718.\n",
      "EER = 0.05\n"
     ]
    }
   ],
   "source": [
    "from sklearn.metrics import roc_curve\n",
    "\n",
    "y = [1] * len(clients_scores) + [0] * len(impostors_scores)\n",
    "y_pred = clients_scores + impostors_scores\n",
    "\n",
    "fpr, tpr, threshold = roc_curve(y, y_pred, pos_label=1)\n",
    "fnr = 1 - tpr\n",
    "\n",
    "i = np.nanargmin(np.absolute((fnr - fpr)))\n",
    "\n",
    "eer_threshold = threshold[i]\n",
    "\n",
    "print(f\"FAR is {fpr[i]} and FRR is {fnr[i]} at threshold {eer_threshold}.\")\n",
    "print(f\"EER = {np.mean((fpr[i], fnr[i]))}\")"
   ]
  },
  {
   "cell_type": "code",
   "execution_count": null,
   "metadata": {},
   "outputs": [],
   "source": []
  },
  {
   "cell_type": "code",
   "execution_count": null,
   "metadata": {},
   "outputs": [],
   "source": []
  },
  {
   "cell_type": "code",
   "execution_count": null,
   "metadata": {},
   "outputs": [],
   "source": []
  },
  {
   "cell_type": "code",
   "execution_count": null,
   "metadata": {},
   "outputs": [],
   "source": []
  },
  {
   "cell_type": "code",
   "execution_count": null,
   "metadata": {},
   "outputs": [],
   "source": []
  },
  {
   "cell_type": "code",
   "execution_count": null,
   "metadata": {},
   "outputs": [],
   "source": []
  },
  {
   "cell_type": "code",
   "execution_count": null,
   "metadata": {},
   "outputs": [],
   "source": []
  },
  {
   "cell_type": "code",
   "execution_count": null,
   "metadata": {},
   "outputs": [],
   "source": []
  },
  {
   "cell_type": "code",
   "execution_count": null,
   "metadata": {},
   "outputs": [],
   "source": []
  },
  {
   "cell_type": "code",
   "execution_count": null,
   "metadata": {},
   "outputs": [],
   "source": []
  },
  {
   "cell_type": "code",
   "execution_count": null,
   "metadata": {},
   "outputs": [],
   "source": []
  },
  {
   "cell_type": "code",
   "execution_count": null,
   "metadata": {},
   "outputs": [],
   "source": []
  },
  {
   "cell_type": "code",
   "execution_count": null,
   "metadata": {},
   "outputs": [],
   "source": []
  },
  {
   "cell_type": "code",
   "execution_count": null,
   "metadata": {},
   "outputs": [],
   "source": []
  },
  {
   "cell_type": "code",
   "execution_count": null,
   "metadata": {},
   "outputs": [],
   "source": []
  },
  {
   "cell_type": "code",
   "execution_count": null,
   "metadata": {},
   "outputs": [],
   "source": []
  },
  {
   "cell_type": "code",
   "execution_count": null,
   "metadata": {},
   "outputs": [],
   "source": []
  },
  {
   "cell_type": "code",
   "execution_count": null,
   "metadata": {},
   "outputs": [],
   "source": []
  },
  {
   "cell_type": "code",
   "execution_count": 6,
   "metadata": {},
   "outputs": [
    {
     "name": "stdout",
     "output_type": "stream",
     "text": [
      "Getting clients from /home/usuaris/veu/federico.costa/git_repositories/DoubleAttentionSpeakerVerification/files_directories/labels/test_clients.ndx\n",
      "Getting impostors from /home/usuaris/veu/federico.costa/git_repositories/DoubleAttentionSpeakerVerification/files_directories/labels/test_impostors.ndx\n"
     ]
    },
    {
     "ename": "KeyboardInterrupt",
     "evalue": "",
     "output_type": "error",
     "traceback": [
      "\u001b[0;31m---------------------------------------------------------------------------\u001b[0m",
      "\u001b[0;31mKeyboardInterrupt\u001b[0m                         Traceback (most recent call last)",
      "File \u001b[0;32m<timed exec>:16\u001b[0m, in \u001b[0;36m<module>\u001b[0;34m\u001b[0m\n",
      "Input \u001b[0;32mIn [4]\u001b[0m, in \u001b[0;36mTrainer.extract_scores\u001b[0;34m(self, trials)\u001b[0m\n\u001b[1;32m    122\u001b[0m         emb1, emb2 \u001b[38;5;241m=\u001b[39m \u001b[38;5;28mself\u001b[39m\u001b[38;5;241m.\u001b[39mnet\u001b[38;5;241m.\u001b[39mgetEmbedding(input1), \u001b[38;5;28mself\u001b[39m\u001b[38;5;241m.\u001b[39mnet\u001b[38;5;241m.\u001b[39mgetEmbedding(input2)\n\u001b[1;32m    124\u001b[0m     dist \u001b[38;5;241m=\u001b[39m scoreCosineDistance(emb1, emb2)\n\u001b[0;32m--> 125\u001b[0m     scores\u001b[38;5;241m.\u001b[39mappend(\u001b[43mdist\u001b[49m\u001b[38;5;241;43m.\u001b[39;49m\u001b[43mitem\u001b[49m\u001b[43m(\u001b[49m\u001b[43m)\u001b[49m)\n\u001b[1;32m    127\u001b[0m \u001b[38;5;28;01mreturn\u001b[39;00m scores\n",
      "\u001b[0;31mKeyboardInterrupt\u001b[0m: "
     ]
    }
   ],
   "source": [
    "%%time\n",
    "\n",
    "with torch.no_grad():\n",
    "    trainer.net.eval()\n",
    "    \n",
    "    # EER Validation\n",
    "    \n",
    "    path_clients = '/home/usuaris/veu/federico.costa/git_repositories/DoubleAttentionSpeakerVerification/files_directories/labels/test_clients.ndx'\n",
    "    path_impostors = '/home/usuaris/veu/federico.costa/git_repositories/DoubleAttentionSpeakerVerification/files_directories/labels/test_impostors.ndx'\n",
    "    \n",
    "    \n",
    "    print(f\"Getting clients from {path_clients}\")\n",
    "    print(f\"Getting impostors from {path_impostors}\")\n",
    "    \n",
    "    with open(path_clients,'r') as clients_in, open(path_impostors,'r') as impostors_in:\n",
    "        \n",
    "        # score clients\n",
    "        CL = trainer.extract_scores(clients_in)\n",
    "        IM = trainer.extract_scores(impostors_in)\n",
    "        \n",
    "        # Compute EER\n",
    "        EER = trainer.calculate_EER(CL, IM)"
   ]
  },
  {
   "cell_type": "code",
   "execution_count": 7,
   "metadata": {},
   "outputs": [
    {
     "ename": "NameError",
     "evalue": "name 'EER' is not defined",
     "output_type": "error",
     "traceback": [
      "\u001b[0;31m---------------------------------------------------------------------------\u001b[0m",
      "\u001b[0;31mNameError\u001b[0m                                 Traceback (most recent call last)",
      "Input \u001b[0;32mIn [7]\u001b[0m, in \u001b[0;36m<cell line: 1>\u001b[0;34m()\u001b[0m\n\u001b[0;32m----> 1\u001b[0m \u001b[43mEER\u001b[49m\n",
      "\u001b[0;31mNameError\u001b[0m: name 'EER' is not defined"
     ]
    }
   ],
   "source": [
    "EER"
   ]
  },
  {
   "cell_type": "code",
   "execution_count": null,
   "metadata": {
    "scrolled": false
   },
   "outputs": [],
   "source": [
    "IM"
   ]
  },
  {
   "cell_type": "code",
   "execution_count": null,
   "metadata": {},
   "outputs": [],
   "source": [
    "CL"
   ]
  },
  {
   "cell_type": "code",
   "execution_count": null,
   "metadata": {},
   "outputs": [],
   "source": []
  },
  {
   "cell_type": "code",
   "execution_count": null,
   "metadata": {},
   "outputs": [],
   "source": []
  },
  {
   "cell_type": "code",
   "execution_count": null,
   "metadata": {},
   "outputs": [],
   "source": []
  },
  {
   "cell_type": "code",
   "execution_count": null,
   "metadata": {},
   "outputs": [],
   "source": []
  },
  {
   "cell_type": "code",
   "execution_count": null,
   "metadata": {},
   "outputs": [],
   "source": []
  },
  {
   "cell_type": "code",
   "execution_count": null,
   "metadata": {},
   "outputs": [],
   "source": []
  },
  {
   "cell_type": "code",
   "execution_count": null,
   "metadata": {},
   "outputs": [],
   "source": []
  },
  {
   "cell_type": "code",
   "execution_count": null,
   "metadata": {},
   "outputs": [],
   "source": []
  },
  {
   "cell_type": "code",
   "execution_count": null,
   "metadata": {},
   "outputs": [],
   "source": []
  },
  {
   "cell_type": "code",
   "execution_count": null,
   "metadata": {},
   "outputs": [],
   "source": [
    "c = trainer.checkpoint"
   ]
  },
  {
   "cell_type": "code",
   "execution_count": null,
   "metadata": {},
   "outputs": [],
   "source": [
    "c.keys()"
   ]
  },
  {
   "cell_type": "code",
   "execution_count": null,
   "metadata": {},
   "outputs": [],
   "source": [
    "c[\"model\"].keys()"
   ]
  },
  {
   "cell_type": "code",
   "execution_count": null,
   "metadata": {},
   "outputs": [],
   "source": [
    "for key, value in c[\"model\"].items():\n",
    "    print(f\"{key} is {type(value)} with size {value.size()}\")"
   ]
  },
  {
   "cell_type": "code",
   "execution_count": null,
   "metadata": {},
   "outputs": [],
   "source": [
    "for key, value in c[\"optimizer\"].items():\n",
    "    print(f\"{key} is {type(value)}\")"
   ]
  },
  {
   "cell_type": "code",
   "execution_count": null,
   "metadata": {},
   "outputs": [],
   "source": [
    "for key, value in c[\"optimizer\"][\"state\"].items():\n",
    "    print(f\"{key} is {type(value)} with size {value.size()}\")"
   ]
  },
  {
   "cell_type": "code",
   "execution_count": null,
   "metadata": {},
   "outputs": [],
   "source": [
    "c[\"optimizer\"][\"state\"][0]"
   ]
  },
  {
   "cell_type": "code",
   "execution_count": null,
   "metadata": {},
   "outputs": [],
   "source": [
    "c[\"settings\"]"
   ]
  },
  {
   "cell_type": "code",
   "execution_count": null,
   "metadata": {},
   "outputs": [],
   "source": [
    "c[\"epoch\"]"
   ]
  },
  {
   "cell_type": "code",
   "execution_count": null,
   "metadata": {},
   "outputs": [],
   "source": [
    "c[\"step\"]"
   ]
  },
  {
   "cell_type": "code",
   "execution_count": null,
   "metadata": {},
   "outputs": [],
   "source": []
  },
  {
   "cell_type": "code",
   "execution_count": null,
   "metadata": {},
   "outputs": [],
   "source": []
  },
  {
   "cell_type": "code",
   "execution_count": null,
   "metadata": {},
   "outputs": [],
   "source": []
  },
  {
   "cell_type": "code",
   "execution_count": null,
   "metadata": {},
   "outputs": [],
   "source": []
  },
  {
   "cell_type": "code",
   "execution_count": null,
   "metadata": {},
   "outputs": [],
   "source": [
    "params.valid_data_dir"
   ]
  },
  {
   "cell_type": "code",
   "execution_count": null,
   "metadata": {},
   "outputs": [],
   "source": [
    "params.valid_clients"
   ]
  },
  {
   "cell_type": "code",
   "execution_count": null,
   "metadata": {},
   "outputs": [],
   "source": [
    "with open(params.valid_clients,'r') as trials:\n",
    "    scores = []\n",
    "    for line in trials:\n",
    "        sline = line[:-1].split()\n",
    "        print(\"-\"*50)\n",
    "        print(sline)\n",
    "        print(params.valid_data_dir  + sline[0] + '.pickle')\n",
    "        print(params.valid_data_dir + sline[1] + '.pickle')\n",
    "        print(\"-\"*50)\n"
   ]
  },
  {
   "cell_type": "code",
   "execution_count": null,
   "metadata": {},
   "outputs": [],
   "source": []
  },
  {
   "cell_type": "code",
   "execution_count": null,
   "metadata": {},
   "outputs": [],
   "source": []
  },
  {
   "cell_type": "code",
   "execution_count": null,
   "metadata": {},
   "outputs": [],
   "source": []
  },
  {
   "cell_type": "code",
   "execution_count": null,
   "metadata": {},
   "outputs": [],
   "source": []
  },
  {
   "cell_type": "code",
   "execution_count": null,
   "metadata": {},
   "outputs": [],
   "source": [
    "params.valid_clients"
   ]
  },
  {
   "cell_type": "code",
   "execution_count": null,
   "metadata": {},
   "outputs": [],
   "source": [
    "import pickle\n",
    "\n",
    "path = '/home/usuaris/veu/federico.costa/git_repositories/DoubleAttentionSpeakerVerification/notebooks/train/models/model1/CNN_VGG4L_3.5_128batchSize_0.0001lr_0.001weightDecay_1024kernel_400embSize_30.0s_0.4m_DoubleMHA_32_config.pkl'\n",
    "with open(path, 'rb') as f:\n",
    "    model = pickle.load(f)"
   ]
  },
  {
   "cell_type": "code",
   "execution_count": null,
   "metadata": {},
   "outputs": [],
   "source": [
    "model"
   ]
  },
  {
   "cell_type": "code",
   "execution_count": null,
   "metadata": {},
   "outputs": [],
   "source": []
  },
  {
   "cell_type": "code",
   "execution_count": null,
   "metadata": {},
   "outputs": [],
   "source": []
  },
  {
   "cell_type": "code",
   "execution_count": null,
   "metadata": {},
   "outputs": [],
   "source": []
  },
  {
   "cell_type": "code",
   "execution_count": null,
   "metadata": {},
   "outputs": [],
   "source": []
  },
  {
   "cell_type": "code",
   "execution_count": null,
   "metadata": {},
   "outputs": [],
   "source": []
  },
  {
   "cell_type": "code",
   "execution_count": null,
   "metadata": {},
   "outputs": [],
   "source": []
  },
  {
   "cell_type": "code",
   "execution_count": null,
   "metadata": {},
   "outputs": [],
   "source": []
  },
  {
   "cell_type": "code",
   "execution_count": null,
   "metadata": {},
   "outputs": [],
   "source": [
    "! nvidia-smi"
   ]
  },
  {
   "cell_type": "code",
   "execution_count": null,
   "metadata": {},
   "outputs": [],
   "source": [
    "device"
   ]
  },
  {
   "cell_type": "code",
   "execution_count": null,
   "metadata": {},
   "outputs": [],
   "source": [
    "int(3.5)"
   ]
  },
  {
   "cell_type": "code",
   "execution_count": null,
   "metadata": {},
   "outputs": [],
   "source": []
  },
  {
   "cell_type": "code",
   "execution_count": null,
   "metadata": {},
   "outputs": [],
   "source": []
  },
  {
   "cell_type": "code",
   "execution_count": null,
   "metadata": {},
   "outputs": [],
   "source": []
  },
  {
   "cell_type": "code",
   "execution_count": null,
   "metadata": {},
   "outputs": [],
   "source": []
  },
  {
   "cell_type": "code",
   "execution_count": null,
   "metadata": {},
   "outputs": [],
   "source": []
  },
  {
   "cell_type": "code",
   "execution_count": null,
   "metadata": {},
   "outputs": [],
   "source": []
  },
  {
   "cell_type": "code",
   "execution_count": null,
   "metadata": {},
   "outputs": [],
   "source": []
  },
  {
   "cell_type": "code",
   "execution_count": null,
   "metadata": {},
   "outputs": [],
   "source": []
  },
  {
   "cell_type": "code",
   "execution_count": null,
   "metadata": {},
   "outputs": [],
   "source": []
  },
  {
   "cell_type": "code",
   "execution_count": null,
   "metadata": {},
   "outputs": [],
   "source": []
  },
  {
   "cell_type": "code",
   "execution_count": null,
   "metadata": {},
   "outputs": [],
   "source": [
    "import pickle\n",
    "\n",
    "path = '/home/usuaris/veu/federico.costa/datasets/voxceleb2/dev/id09083/2CSYK-bJigI/00002.pickle'\n",
    "\n",
    "with open(path, 'rb') as f:\n",
    "    x = pickle.load(f)"
   ]
  },
  {
   "cell_type": "code",
   "execution_count": null,
   "metadata": {},
   "outputs": [],
   "source": [
    "x.shape"
   ]
  },
  {
   "cell_type": "code",
   "execution_count": null,
   "metadata": {},
   "outputs": [],
   "source": []
  },
  {
   "cell_type": "code",
   "execution_count": null,
   "metadata": {},
   "outputs": [],
   "source": []
  },
  {
   "cell_type": "code",
   "execution_count": null,
   "metadata": {},
   "outputs": [],
   "source": []
  },
  {
   "cell_type": "code",
   "execution_count": null,
   "metadata": {},
   "outputs": [],
   "source": []
  },
  {
   "cell_type": "code",
   "execution_count": null,
   "metadata": {},
   "outputs": [],
   "source": []
  },
  {
   "cell_type": "code",
   "execution_count": null,
   "metadata": {},
   "outputs": [],
   "source": []
  },
  {
   "cell_type": "code",
   "execution_count": null,
   "metadata": {},
   "outputs": [],
   "source": []
  }
 ],
 "metadata": {
  "kernelspec": {
   "display_name": "DASV",
   "language": "python",
   "name": "dasv"
  },
  "language_info": {
   "codemirror_mode": {
    "name": "ipython",
    "version": 3
   },
   "file_extension": ".py",
   "mimetype": "text/x-python",
   "name": "python",
   "nbconvert_exporter": "python",
   "pygments_lexer": "ipython3",
   "version": "3.10.4"
  }
 },
 "nbformat": 4,
 "nbformat_minor": 2
}
